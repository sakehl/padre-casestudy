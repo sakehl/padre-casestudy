{
 "cells": [
  {
   "cell_type": "code",
   "execution_count": null,
   "id": "0f7cb3a6",
   "metadata": {},
   "outputs": [],
   "source": [
    "x: int = 4.0"
   ]
  },
  {
   "cell_type": "code",
   "execution_count": 30,
   "id": "dcadd72f",
   "metadata": {},
   "outputs": [],
   "source": [
    "base = \"\"\"\n",
    "  context_everywhere n > 0;\n",
    "  context_everywhere x0 != null ** x0.length == n ** Perm(x0[*], write);\n",
    "  {annotations}\n",
    "int main(int n, int[n] x0{args}){\n",
    "    loop_invariant 0 <= i && i<= n;\n",
    "  for(int i=0; i<n;i++){\n",
    "    x0[i] = 0{sum}\n",
    "  }\n",
    "}\n",
    "\"\"\"\n",
    "\n",
    "annotation = \"context_everywhere {name} != null ** {name}.length == n ** Perm({name}[*], write);\"\n",
    "arg = \", int[n] {name}\"\n",
    "sumpart = \"+{name}\""
   ]
  },
  {
   "cell_type": "code",
   "execution_count": 28,
   "id": "cc2fcbba",
   "metadata": {
    "scrolled": true
   },
   "outputs": [
    {
     "name": "stdout",
     "output_type": "stream",
     "text": [
      "context_everywhere x1 != null ** x1.length == n ** Perm(x1[*], write);\n",
      "  context_everywhere x2 != null ** x2.length == n ** Perm(x2[*], write);\n",
      "  context_everywhere x3 != null ** x3.length == n ** Perm(x3[*], write);\n",
      "  context_everywhere x4 != null ** x4.length == n ** Perm(x4[*], write);\n",
      "  context_everywhere x5 != null ** x5.length == n ** Perm(x5[*], write);\n",
      "  context_everywhere x6 != null ** x6.length == n ** Perm(x6[*], write);\n",
      "  context_everywhere x7 != null ** x7.length == n ** Perm(x7[*], write);\n",
      "  context_everywhere x8 != null ** x8.length == n ** Perm(x8[*], write);\n",
      "  context_everywhere x9 != null ** x9.length == n ** Perm(x9[*], write);\n"
     ]
    }
   ],
   "source": [
    "def generate(int n):\n",
    "    anns = '\\n  '.join(map(lambda i: annotation.format(name=f\"x{i}\"), range(1,n)))\n",
    "    args = ''.join()"
   ]
  },
  {
   "cell_type": "code",
   "execution_count": 31,
   "id": "1658f23e",
   "metadata": {},
   "outputs": [
    {
     "data": {
      "text/plain": [
       "'context_everywhere x1 != null ** x1.length == n ** Perm(x1[*], write);\\n  context_everywhere x2 != null ** x2.length == n ** Perm(x2[*], write);\\n  context_everywhere x3 != null ** x3.length == n ** Perm(x3[*], write);\\n  context_everywhere x4 != null ** x4.length == n ** Perm(x4[*], write);'"
      ]
     },
     "execution_count": 31,
     "metadata": {},
     "output_type": "execute_result"
    }
   ],
   "source": [
    "'\\n  '.join(map(lambda i: annotation.format(name=f\"x{i}\"), range(1,5)))"
   ]
  },
  {
   "cell_type": "code",
   "execution_count": null,
   "id": "59ecbe2d",
   "metadata": {},
   "outputs": [],
   "source": []
  }
 ],
 "metadata": {
  "kernelspec": {
   "display_name": "Python 3 (ipykernel)",
   "language": "python",
   "name": "python3"
  },
  "language_info": {
   "codemirror_mode": {
    "name": "ipython",
    "version": 3
   },
   "file_extension": ".py",
   "mimetype": "text/x-python",
   "name": "python",
   "nbconvert_exporter": "python",
   "pygments_lexer": "ipython3",
   "version": "3.10.12"
  }
 },
 "nbformat": 4,
 "nbformat_minor": 5
}
